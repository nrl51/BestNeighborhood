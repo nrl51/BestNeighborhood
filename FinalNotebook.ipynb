{
 "cells": [
  {
   "cell_type": "markdown",
   "metadata": {},
   "source": [
    "# The Best Neighborhood of Pittsburgh"
   ]
  },
  {
   "cell_type": "markdown",
   "metadata": {},
   "source": [
    "We are seeking the best neighborhood in Pittsburgh, and came across different datasets and metrics of interest\n",
    "\n",
    "Leisure/ease of access/low effort required as the metric.  \n",
    "Easiest place to walk and least effort required for activities  \n",
    "We want high smart trash cans, low # stairs, and 3rd metric   \n",
    "Narrow down as we go. From SmartTrash narrow to 10, narrow more from stairs, select with the last dataset?"
   ]
  },
  {
   "cell_type": "markdown",
   "metadata": {},
   "source": [
    "## Part 1: Smart Trash Cans"
   ]
  },
  {
   "cell_type": "code",
   "execution_count": null,
   "metadata": {},
   "outputs": [],
   "source": [
    "import pandas as pd\n",
    "import matplotlib.pyplot as plt\n",
    "file = pd.read_csv(\"Final_MarkZarroli/SmartTrash.csv\")\n",
    "\n",
    "file.head(100)"
   ]
  },
  {
   "cell_type": "code",
   "execution_count": null,
   "metadata": {},
   "outputs": [],
   "source": [
    "neighborhood_counts = file.groupby('neighborhood').size().reset_index(name='count')\n",
    "neighborhood_counts = neighborhood_counts.sort_values(by='count', ascending=True)\n",
    "\n",
    "colors = plt.cm.tab20b.colors\n",
    "ax = neighborhood_counts.plot(kind='barh', x='neighborhood', y='count', figsize=(10, 20), color=colors)\n",
    "\n",
    "for index, value in enumerate(neighborhood_counts['count']):\n",
    "    ax.text(value, index, str(value), ha='left', va='center')\n",
    "    \n",
    "plt.title('Count of Smart Trash Cans by Neighborhood')\n",
    "plt.xlabel('Count')\n",
    "plt.ylabel('Neighborhood')\n",
    "plt.show()"
   ]
  },
  {
   "cell_type": "markdown",
   "metadata": {},
   "source": [
    "## Part 2: Steps"
   ]
  },
  {
   "cell_type": "code",
   "execution_count": null,
   "metadata": {},
   "outputs": [],
   "source": [
    "import pandas as pd"
   ]
  },
  {
   "cell_type": "code",
   "execution_count": null,
   "metadata": {},
   "outputs": [],
   "source": [
    "# reads the steps csv file, then store only the number of \n",
    "# and the neighborhood in a separate frame \n",
    "steps = pd.read_csv(\"PittsburghSteps.csv\", sep=\",\")\n",
    "StepNumberFrame = steps[[\"number_of_steps\", \"neighborhood\"]]"
   ]
  },
  {
   "cell_type": "code",
   "execution_count": null,
   "metadata": {},
   "outputs": [],
   "source": [
    "# total the number of steps for each location in the file, and display all in a graph\n",
    "NumStepDist = StepNumberFrame.groupby(\"neighborhood\").sum()['number_of_steps'].sort_values(ascending=True)\n",
    "NumStepDistPlot = NumStepDist.plot.barh(x='number_of_steps', y='neighborhood', figsize=(10,20) )\n",
    "NumStepDistPlot.set_xlabel(\"Number of Steps\")\n",
    "NumStepDistPlot.set_ylabel(\"Neighborhood\")"
   ]
  },
  {
   "cell_type": "code",
   "execution_count": null,
   "metadata": {},
   "outputs": [],
   "source": [
    "# total the sets of steps for each location in the file, and display all in a graph\n",
    "stepDist = StepNumberFrame['neighborhood'].value_counts().sort_values(ascending=True)\n",
    "stepDistPlot = stepDist.plot.barh(y = \"neighborhood\", figsize=(10,20) )\n",
    "stepDistPlot.set_xlabel(\"Sets of steps\")\n",
    "stepDistPlot.set_ylabel(\"Neighborhood\")"
   ]
  },
  {
   "cell_type": "markdown",
   "metadata": {},
   "source": [
    "## Part 3: Courts and Rinks"
   ]
  },
  {
   "cell_type": "code",
   "execution_count": null,
   "metadata": {},
   "outputs": [],
   "source": [
    "import pandas as pd\n",
    "\n",
    "# Example file path, modify it according to your file location\n",
    "file_path = \"CourtsAndRinksData.csv\"\n",
    "\n",
    "# Read the CSV file\n",
    "file = pd.read_csv(file_path)\n",
    "\n",
    "file.head(100)"
   ]
  },
  {
   "cell_type": "code",
   "execution_count": null,
   "metadata": {},
   "outputs": [],
   "source": [
    "neighborhood_counts = file.groupby('neighborhood').size().reset_index(name='count')\n",
    "neighborhood_counts = neighborhood_counts.sort_values(by='count', ascending=True)\n",
    "\n",
    "colors = plt.cm.tab20b.colors\n",
    "ax = neighborhood_counts.plot(kind='barh', x='neighborhood', y='count', figsize=(10, 20), color=colors)\n",
    "\n",
    "for index, value in enumerate(neighborhood_counts['count']):\n",
    "    ax.text(value, index, str(value), ha='left', va='center')\n",
    "    \n",
    "plt.title('Count of Parks and Rinks by Neighborhood')\n",
    "plt.xlabel('Count')\n",
    "plt.ylabel('Neighborhood')\n",
    "plt.show()"
   ]
  },
  {
   "cell_type": "markdown",
   "metadata": {},
   "source": [
    "## And the best neighborhood is...\n",
    "East Liberty? ShadySide?"
   ]
  },
  {
   "cell_type": "markdown",
   "metadata": {},
   "source": [
    "## Conclusion"
   ]
  },
  {
   "cell_type": "markdown",
   "metadata": {},
   "source": [
    "Nolan Le - "
   ]
  },
  {
   "cell_type": "markdown",
   "metadata": {},
   "source": []
  }
 ],
 "metadata": {
  "kernelspec": {
   "display_name": "Python 3",
   "language": "python",
   "name": "python3"
  },
  "language_info": {
   "codemirror_mode": {
    "name": "ipython",
    "version": 3
   },
   "file_extension": ".py",
   "mimetype": "text/x-python",
   "name": "python",
   "nbconvert_exporter": "python",
   "pygments_lexer": "ipython3",
   "version": "3.8.3"
  }
 },
 "nbformat": 4,
 "nbformat_minor": 4
}
